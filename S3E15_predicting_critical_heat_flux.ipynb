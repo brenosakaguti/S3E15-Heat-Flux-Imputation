{
 "cells": [
  {
   "cell_type": "markdown",
   "id": "d7a93ecf-03fb-4faa-8bec-baff91d05339",
   "metadata": {
    "tags": []
   },
   "source": [
    "## Imports and Setup"
   ]
  },
  {
   "cell_type": "code",
   "execution_count": 192,
   "id": "2cb2d36d-d380-4d11-be78-f29174eedcf8",
   "metadata": {},
   "outputs": [],
   "source": [
    "import pandas as pd\n",
    "import numpy as np\n",
    "import matplotlib.pyplot as plt\n",
    "import seaborn as sns\n",
    "from scipy.stats import ttest_ind\n",
    "from sklearn.pipeline import Pipeline\n",
    "from sklearn.preprocessing import OneHotEncoder\n",
    "from sklearn.compose import ColumnTransformer\n",
    "from sklearn.impute import SimpleImputer\n",
    "from sklearn.model_selection import KFold\n",
    "from sklearn.ensemble import RandomForestRegressor, VotingRegressor\n",
    "from sklearn.metrics import mean_squared_error\n",
    "from sklearn.linear_model import Ridge\n",
    "from lightgbm import LGBMRegressor\n",
    "from xgboost import XGBRegressor"
   ]
  },
  {
   "cell_type": "code",
   "execution_count": 125,
   "id": "a290c392-7fab-40b7-bac2-81920d8810a2",
   "metadata": {},
   "outputs": [],
   "source": [
    "sns.set_theme()"
   ]
  },
  {
   "cell_type": "markdown",
   "id": "fbeb8f5b-5ef5-4988-8377-95a2a4ef2494",
   "metadata": {},
   "source": [
    "## Data Loading"
   ]
  },
  {
   "cell_type": "code",
   "execution_count": 126,
   "id": "446f25aa-84e5-4bad-8ccc-b56736401e9e",
   "metadata": {},
   "outputs": [],
   "source": [
    "raw_data = pd.read_csv(\"data.csv\").drop(columns=[\"id\"])"
   ]
  },
  {
   "cell_type": "code",
   "execution_count": 127,
   "id": "b82daa7c-8e74-4b3c-b668-f0c986855b36",
   "metadata": {},
   "outputs": [
    {
     "name": "stdout",
     "output_type": "stream",
     "text": [
      "author\n",
      "geometry\n",
      "pressure [MPa]\n",
      "mass_flux [kg/m2-s]\n",
      "x_e_out [-]\n",
      "D_e [mm]\n",
      "D_h [mm]\n",
      "length [mm]\n",
      "chf_exp [MW/m2]\n"
     ]
    }
   ],
   "source": [
    "for column in raw_data.columns:\n",
    "    print(column)"
   ]
  },
  {
   "cell_type": "markdown",
   "id": "488ffa09-ed58-4e2a-8456-42be9c5327a4",
   "metadata": {},
   "source": [
    "For ease of use, we'll remove the units from the column names"
   ]
  },
  {
   "cell_type": "code",
   "execution_count": 128,
   "id": "bdddc1b9-9c9c-4d35-a670-e9e0ea7010d9",
   "metadata": {},
   "outputs": [
    {
     "data": {
      "text/html": [
       "<div>\n",
       "<style scoped>\n",
       "    .dataframe tbody tr th:only-of-type {\n",
       "        vertical-align: middle;\n",
       "    }\n",
       "\n",
       "    .dataframe tbody tr th {\n",
       "        vertical-align: top;\n",
       "    }\n",
       "\n",
       "    .dataframe thead th {\n",
       "        text-align: right;\n",
       "    }\n",
       "</style>\n",
       "<table border=\"1\" class=\"dataframe\">\n",
       "  <thead>\n",
       "    <tr style=\"text-align: right;\">\n",
       "      <th></th>\n",
       "      <th>author</th>\n",
       "      <th>geometry</th>\n",
       "      <th>pressure</th>\n",
       "      <th>mass_flux</th>\n",
       "      <th>x_e_out</th>\n",
       "      <th>D_e</th>\n",
       "      <th>D_h</th>\n",
       "      <th>length</th>\n",
       "      <th>chf_exp</th>\n",
       "    </tr>\n",
       "  </thead>\n",
       "  <tbody>\n",
       "    <tr>\n",
       "      <th>0</th>\n",
       "      <td>Thompson</td>\n",
       "      <td>tube</td>\n",
       "      <td>7.00</td>\n",
       "      <td>3770.0</td>\n",
       "      <td>0.1754</td>\n",
       "      <td>NaN</td>\n",
       "      <td>10.8</td>\n",
       "      <td>432.0</td>\n",
       "      <td>3.6</td>\n",
       "    </tr>\n",
       "    <tr>\n",
       "      <th>1</th>\n",
       "      <td>Thompson</td>\n",
       "      <td>tube</td>\n",
       "      <td>NaN</td>\n",
       "      <td>6049.0</td>\n",
       "      <td>-0.0416</td>\n",
       "      <td>10.3</td>\n",
       "      <td>10.3</td>\n",
       "      <td>762.0</td>\n",
       "      <td>6.2</td>\n",
       "    </tr>\n",
       "    <tr>\n",
       "      <th>2</th>\n",
       "      <td>Thompson</td>\n",
       "      <td>NaN</td>\n",
       "      <td>13.79</td>\n",
       "      <td>2034.0</td>\n",
       "      <td>0.0335</td>\n",
       "      <td>7.7</td>\n",
       "      <td>7.7</td>\n",
       "      <td>457.0</td>\n",
       "      <td>2.5</td>\n",
       "    </tr>\n",
       "    <tr>\n",
       "      <th>3</th>\n",
       "      <td>Beus</td>\n",
       "      <td>annulus</td>\n",
       "      <td>13.79</td>\n",
       "      <td>3679.0</td>\n",
       "      <td>-0.0279</td>\n",
       "      <td>5.6</td>\n",
       "      <td>15.2</td>\n",
       "      <td>2134.0</td>\n",
       "      <td>3.0</td>\n",
       "    </tr>\n",
       "    <tr>\n",
       "      <th>4</th>\n",
       "      <td>NaN</td>\n",
       "      <td>tube</td>\n",
       "      <td>13.79</td>\n",
       "      <td>686.0</td>\n",
       "      <td>NaN</td>\n",
       "      <td>11.1</td>\n",
       "      <td>11.1</td>\n",
       "      <td>457.0</td>\n",
       "      <td>2.8</td>\n",
       "    </tr>\n",
       "    <tr>\n",
       "      <th>...</th>\n",
       "      <td>...</td>\n",
       "      <td>...</td>\n",
       "      <td>...</td>\n",
       "      <td>...</td>\n",
       "      <td>...</td>\n",
       "      <td>...</td>\n",
       "      <td>...</td>\n",
       "      <td>...</td>\n",
       "      <td>...</td>\n",
       "    </tr>\n",
       "    <tr>\n",
       "      <th>31639</th>\n",
       "      <td>Thompson</td>\n",
       "      <td>NaN</td>\n",
       "      <td>NaN</td>\n",
       "      <td>1736.0</td>\n",
       "      <td>0.0886</td>\n",
       "      <td>NaN</td>\n",
       "      <td>7.8</td>\n",
       "      <td>591.0</td>\n",
       "      <td>2.3</td>\n",
       "    </tr>\n",
       "    <tr>\n",
       "      <th>31640</th>\n",
       "      <td>NaN</td>\n",
       "      <td>NaN</td>\n",
       "      <td>13.79</td>\n",
       "      <td>NaN</td>\n",
       "      <td>NaN</td>\n",
       "      <td>4.7</td>\n",
       "      <td>4.7</td>\n",
       "      <td>NaN</td>\n",
       "      <td>3.9</td>\n",
       "    </tr>\n",
       "    <tr>\n",
       "      <th>31641</th>\n",
       "      <td>Thompson</td>\n",
       "      <td>NaN</td>\n",
       "      <td>18.27</td>\n",
       "      <td>658.0</td>\n",
       "      <td>-0.1224</td>\n",
       "      <td>3.0</td>\n",
       "      <td>3.0</td>\n",
       "      <td>150.0</td>\n",
       "      <td>2.3</td>\n",
       "    </tr>\n",
       "    <tr>\n",
       "      <th>31642</th>\n",
       "      <td>Thompson</td>\n",
       "      <td>tube</td>\n",
       "      <td>6.89</td>\n",
       "      <td>3825.0</td>\n",
       "      <td>NaN</td>\n",
       "      <td>23.6</td>\n",
       "      <td>23.6</td>\n",
       "      <td>1972.0</td>\n",
       "      <td>3.7</td>\n",
       "    </tr>\n",
       "    <tr>\n",
       "      <th>31643</th>\n",
       "      <td>NaN</td>\n",
       "      <td>tube</td>\n",
       "      <td>6.89</td>\n",
       "      <td>7568.0</td>\n",
       "      <td>0.0603</td>\n",
       "      <td>12.8</td>\n",
       "      <td>12.8</td>\n",
       "      <td>1930.0</td>\n",
       "      <td>3.3</td>\n",
       "    </tr>\n",
       "  </tbody>\n",
       "</table>\n",
       "<p>31644 rows × 9 columns</p>\n",
       "</div>"
      ],
      "text/plain": [
       "         author geometry  pressure  mass_flux  x_e_out   D_e   D_h  length  \\\n",
       "0      Thompson     tube      7.00     3770.0   0.1754   NaN  10.8   432.0   \n",
       "1      Thompson     tube       NaN     6049.0  -0.0416  10.3  10.3   762.0   \n",
       "2      Thompson      NaN     13.79     2034.0   0.0335   7.7   7.7   457.0   \n",
       "3          Beus  annulus     13.79     3679.0  -0.0279   5.6  15.2  2134.0   \n",
       "4           NaN     tube     13.79      686.0      NaN  11.1  11.1   457.0   \n",
       "...         ...      ...       ...        ...      ...   ...   ...     ...   \n",
       "31639  Thompson      NaN       NaN     1736.0   0.0886   NaN   7.8   591.0   \n",
       "31640       NaN      NaN     13.79        NaN      NaN   4.7   4.7     NaN   \n",
       "31641  Thompson      NaN     18.27      658.0  -0.1224   3.0   3.0   150.0   \n",
       "31642  Thompson     tube      6.89     3825.0      NaN  23.6  23.6  1972.0   \n",
       "31643       NaN     tube      6.89     7568.0   0.0603  12.8  12.8  1930.0   \n",
       "\n",
       "       chf_exp  \n",
       "0          3.6  \n",
       "1          6.2  \n",
       "2          2.5  \n",
       "3          3.0  \n",
       "4          2.8  \n",
       "...        ...  \n",
       "31639      2.3  \n",
       "31640      3.9  \n",
       "31641      2.3  \n",
       "31642      3.7  \n",
       "31643      3.3  \n",
       "\n",
       "[31644 rows x 9 columns]"
      ]
     },
     "execution_count": 128,
     "metadata": {},
     "output_type": "execute_result"
    }
   ],
   "source": [
    "raw_data.columns = [\"author\", \"geometry\", \"pressure\", \"mass_flux\", \"x_e_out\", \"D_e\", \"D_h\", \"length\", \"chf_exp\"]\n",
    "raw_data"
   ]
  },
  {
   "cell_type": "markdown",
   "id": "eee464df-c9f7-48f1-b520-d908f207186f",
   "metadata": {},
   "source": [
    "To, start, we'll separate the data between rows that contain x_e_out and the ones that don't."
   ]
  },
  {
   "cell_type": "code",
   "execution_count": 129,
   "id": "ee4b3d50-d883-45d5-ba31-1bd561daad55",
   "metadata": {},
   "outputs": [],
   "source": [
    "y_full = raw_data[\"x_e_out\"]\n",
    "X_full = raw_data.drop(columns=[\"x_e_out\"])\n",
    "\n",
    "y_train = y_full[ y_full.isna() == False ]\n",
    "X_train = X_full[ y_full.isna() == False ]\n",
    "X_test = X_full[ y_full.isna() ]"
   ]
  },
  {
   "cell_type": "markdown",
   "id": "fe2f4803-d78e-43fb-96ab-7d02b54ba36c",
   "metadata": {},
   "source": [
    "## Data Analysis"
   ]
  },
  {
   "cell_type": "code",
   "execution_count": 130,
   "id": "e7615054-02ea-4b1a-aae6-ba7e8a5707ec",
   "metadata": {},
   "outputs": [
    {
     "data": {
      "text/html": [
       "<div>\n",
       "<style scoped>\n",
       "    .dataframe tbody tr th:only-of-type {\n",
       "        vertical-align: middle;\n",
       "    }\n",
       "\n",
       "    .dataframe tbody tr th {\n",
       "        vertical-align: top;\n",
       "    }\n",
       "\n",
       "    .dataframe thead th {\n",
       "        text-align: right;\n",
       "    }\n",
       "</style>\n",
       "<table border=\"1\" class=\"dataframe\">\n",
       "  <thead>\n",
       "    <tr style=\"text-align: right;\">\n",
       "      <th></th>\n",
       "      <th>pressure</th>\n",
       "      <th>mass_flux</th>\n",
       "      <th>D_e</th>\n",
       "      <th>D_h</th>\n",
       "      <th>length</th>\n",
       "      <th>chf_exp</th>\n",
       "    </tr>\n",
       "  </thead>\n",
       "  <tbody>\n",
       "    <tr>\n",
       "      <th>count</th>\n",
       "      <td>18243.000000</td>\n",
       "      <td>18002.000000</td>\n",
       "      <td>17588.000000</td>\n",
       "      <td>18102.000000</td>\n",
       "      <td>18072.000000</td>\n",
       "      <td>21229.000000</td>\n",
       "    </tr>\n",
       "    <tr>\n",
       "      <th>mean</th>\n",
       "      <td>10.635066</td>\n",
       "      <td>3070.487779</td>\n",
       "      <td>8.589305</td>\n",
       "      <td>14.215446</td>\n",
       "      <td>830.564962</td>\n",
       "      <td>3.809129</td>\n",
       "    </tr>\n",
       "    <tr>\n",
       "      <th>std</th>\n",
       "      <td>4.332943</td>\n",
       "      <td>1784.873142</td>\n",
       "      <td>5.132207</td>\n",
       "      <td>19.913594</td>\n",
       "      <td>671.142170</td>\n",
       "      <td>1.988009</td>\n",
       "    </tr>\n",
       "    <tr>\n",
       "      <th>min</th>\n",
       "      <td>0.100000</td>\n",
       "      <td>0.000000</td>\n",
       "      <td>1.000000</td>\n",
       "      <td>1.000000</td>\n",
       "      <td>10.000000</td>\n",
       "      <td>0.800000</td>\n",
       "    </tr>\n",
       "    <tr>\n",
       "      <th>25%</th>\n",
       "      <td>6.890000</td>\n",
       "      <td>1505.000000</td>\n",
       "      <td>4.700000</td>\n",
       "      <td>5.600000</td>\n",
       "      <td>318.000000</td>\n",
       "      <td>2.400000</td>\n",
       "    </tr>\n",
       "    <tr>\n",
       "      <th>50%</th>\n",
       "      <td>11.030000</td>\n",
       "      <td>2730.000000</td>\n",
       "      <td>7.800000</td>\n",
       "      <td>10.000000</td>\n",
       "      <td>610.000000</td>\n",
       "      <td>3.400000</td>\n",
       "    </tr>\n",
       "    <tr>\n",
       "      <th>75%</th>\n",
       "      <td>13.790000</td>\n",
       "      <td>4069.000000</td>\n",
       "      <td>10.800000</td>\n",
       "      <td>11.500000</td>\n",
       "      <td>914.000000</td>\n",
       "      <td>4.700000</td>\n",
       "    </tr>\n",
       "    <tr>\n",
       "      <th>max</th>\n",
       "      <td>20.680000</td>\n",
       "      <td>7975.000000</td>\n",
       "      <td>37.500000</td>\n",
       "      <td>120.000000</td>\n",
       "      <td>3048.000000</td>\n",
       "      <td>19.300000</td>\n",
       "    </tr>\n",
       "  </tbody>\n",
       "</table>\n",
       "</div>"
      ],
      "text/plain": [
       "           pressure     mass_flux           D_e           D_h        length  \\\n",
       "count  18243.000000  18002.000000  17588.000000  18102.000000  18072.000000   \n",
       "mean      10.635066   3070.487779      8.589305     14.215446    830.564962   \n",
       "std        4.332943   1784.873142      5.132207     19.913594    671.142170   \n",
       "min        0.100000      0.000000      1.000000      1.000000     10.000000   \n",
       "25%        6.890000   1505.000000      4.700000      5.600000    318.000000   \n",
       "50%       11.030000   2730.000000      7.800000     10.000000    610.000000   \n",
       "75%       13.790000   4069.000000     10.800000     11.500000    914.000000   \n",
       "max       20.680000   7975.000000     37.500000    120.000000   3048.000000   \n",
       "\n",
       "            chf_exp  \n",
       "count  21229.000000  \n",
       "mean       3.809129  \n",
       "std        1.988009  \n",
       "min        0.800000  \n",
       "25%        2.400000  \n",
       "50%        3.400000  \n",
       "75%        4.700000  \n",
       "max       19.300000  "
      ]
     },
     "execution_count": 130,
     "metadata": {},
     "output_type": "execute_result"
    }
   ],
   "source": [
    "X_train.describe()"
   ]
  },
  {
   "cell_type": "code",
   "execution_count": 131,
   "id": "483705ea-c021-44ea-a0de-206bc515c9d0",
   "metadata": {},
   "outputs": [
    {
     "data": {
      "text/html": [
       "<div>\n",
       "<style scoped>\n",
       "    .dataframe tbody tr th:only-of-type {\n",
       "        vertical-align: middle;\n",
       "    }\n",
       "\n",
       "    .dataframe tbody tr th {\n",
       "        vertical-align: top;\n",
       "    }\n",
       "\n",
       "    .dataframe thead th {\n",
       "        text-align: right;\n",
       "    }\n",
       "</style>\n",
       "<table border=\"1\" class=\"dataframe\">\n",
       "  <thead>\n",
       "    <tr style=\"text-align: right;\">\n",
       "      <th></th>\n",
       "      <th>pressure</th>\n",
       "      <th>mass_flux</th>\n",
       "      <th>D_e</th>\n",
       "      <th>D_h</th>\n",
       "      <th>length</th>\n",
       "      <th>chf_exp</th>\n",
       "    </tr>\n",
       "  </thead>\n",
       "  <tbody>\n",
       "    <tr>\n",
       "      <th>count</th>\n",
       "      <td>-0.509456</td>\n",
       "      <td>-0.508332</td>\n",
       "      <td>-0.512850</td>\n",
       "      <td>-0.505414</td>\n",
       "      <td>-0.512340</td>\n",
       "      <td>-0.509398</td>\n",
       "    </tr>\n",
       "    <tr>\n",
       "      <th>mean</th>\n",
       "      <td>0.001623</td>\n",
       "      <td>-0.002447</td>\n",
       "      <td>0.014199</td>\n",
       "      <td>-0.008740</td>\n",
       "      <td>0.008897</td>\n",
       "      <td>-0.009686</td>\n",
       "    </tr>\n",
       "    <tr>\n",
       "      <th>std</th>\n",
       "      <td>0.000569</td>\n",
       "      <td>-0.013338</td>\n",
       "      <td>0.031359</td>\n",
       "      <td>-0.011399</td>\n",
       "      <td>0.005266</td>\n",
       "      <td>-0.006222</td>\n",
       "    </tr>\n",
       "    <tr>\n",
       "      <th>min</th>\n",
       "      <td>0.000000</td>\n",
       "      <td>NaN</td>\n",
       "      <td>0.000000</td>\n",
       "      <td>0.000000</td>\n",
       "      <td>0.000000</td>\n",
       "      <td>0.000000</td>\n",
       "    </tr>\n",
       "    <tr>\n",
       "      <th>25%</th>\n",
       "      <td>0.000000</td>\n",
       "      <td>0.009302</td>\n",
       "      <td>0.063830</td>\n",
       "      <td>0.000000</td>\n",
       "      <td>0.000000</td>\n",
       "      <td>0.000000</td>\n",
       "    </tr>\n",
       "    <tr>\n",
       "      <th>50%</th>\n",
       "      <td>0.003626</td>\n",
       "      <td>0.003663</td>\n",
       "      <td>0.089744</td>\n",
       "      <td>0.000000</td>\n",
       "      <td>0.000000</td>\n",
       "      <td>0.000000</td>\n",
       "    </tr>\n",
       "    <tr>\n",
       "      <th>75%</th>\n",
       "      <td>0.000000</td>\n",
       "      <td>0.000000</td>\n",
       "      <td>0.000000</td>\n",
       "      <td>0.000000</td>\n",
       "      <td>0.000000</td>\n",
       "      <td>-0.021277</td>\n",
       "    </tr>\n",
       "    <tr>\n",
       "      <th>max</th>\n",
       "      <td>0.000000</td>\n",
       "      <td>0.000000</td>\n",
       "      <td>0.000000</td>\n",
       "      <td>0.000000</td>\n",
       "      <td>0.000000</td>\n",
       "      <td>0.000000</td>\n",
       "    </tr>\n",
       "  </tbody>\n",
       "</table>\n",
       "</div>"
      ],
      "text/plain": [
       "       pressure  mass_flux       D_e       D_h    length   chf_exp\n",
       "count -0.509456  -0.508332 -0.512850 -0.505414 -0.512340 -0.509398\n",
       "mean   0.001623  -0.002447  0.014199 -0.008740  0.008897 -0.009686\n",
       "std    0.000569  -0.013338  0.031359 -0.011399  0.005266 -0.006222\n",
       "min    0.000000        NaN  0.000000  0.000000  0.000000  0.000000\n",
       "25%    0.000000   0.009302  0.063830  0.000000  0.000000  0.000000\n",
       "50%    0.003626   0.003663  0.089744  0.000000  0.000000  0.000000\n",
       "75%    0.000000   0.000000  0.000000  0.000000  0.000000 -0.021277\n",
       "max    0.000000   0.000000  0.000000  0.000000  0.000000  0.000000"
      ]
     },
     "execution_count": 131,
     "metadata": {},
     "output_type": "execute_result"
    }
   ],
   "source": [
    "(X_test.describe() - X_train.describe()) / X_train.describe()"
   ]
  },
  {
   "cell_type": "code",
   "execution_count": 132,
   "id": "8f0e04b2-d0d9-4be9-bd90-0e6160aa18f0",
   "metadata": {},
   "outputs": [
    {
     "data": {
      "text/html": [
       "<div>\n",
       "<style scoped>\n",
       "    .dataframe tbody tr th:only-of-type {\n",
       "        vertical-align: middle;\n",
       "    }\n",
       "\n",
       "    .dataframe tbody tr th {\n",
       "        vertical-align: top;\n",
       "    }\n",
       "\n",
       "    .dataframe thead th {\n",
       "        text-align: right;\n",
       "    }\n",
       "</style>\n",
       "<table border=\"1\" class=\"dataframe\">\n",
       "  <thead>\n",
       "    <tr style=\"text-align: right;\">\n",
       "      <th></th>\n",
       "      <th>Train</th>\n",
       "      <th>Test</th>\n",
       "    </tr>\n",
       "  </thead>\n",
       "  <tbody>\n",
       "    <tr>\n",
       "      <th>Thompson</th>\n",
       "      <td>11621</td>\n",
       "      <td>5775</td>\n",
       "    </tr>\n",
       "    <tr>\n",
       "      <th>Janssen</th>\n",
       "      <td>1846</td>\n",
       "      <td>870</td>\n",
       "    </tr>\n",
       "    <tr>\n",
       "      <th>Weatherhead</th>\n",
       "      <td>1377</td>\n",
       "      <td>663</td>\n",
       "    </tr>\n",
       "    <tr>\n",
       "      <th>Beus</th>\n",
       "      <td>1087</td>\n",
       "      <td>517</td>\n",
       "    </tr>\n",
       "    <tr>\n",
       "      <th>Peskov</th>\n",
       "      <td>729</td>\n",
       "      <td>355</td>\n",
       "    </tr>\n",
       "    <tr>\n",
       "      <th>Williams</th>\n",
       "      <td>567</td>\n",
       "      <td>324</td>\n",
       "    </tr>\n",
       "    <tr>\n",
       "      <th>Richenderfer</th>\n",
       "      <td>371</td>\n",
       "      <td>174</td>\n",
       "    </tr>\n",
       "    <tr>\n",
       "      <th>Mortimore</th>\n",
       "      <td>130</td>\n",
       "      <td>67</td>\n",
       "    </tr>\n",
       "    <tr>\n",
       "      <th>Kossolapov</th>\n",
       "      <td>70</td>\n",
       "      <td>31</td>\n",
       "    </tr>\n",
       "    <tr>\n",
       "      <th>Inasaka</th>\n",
       "      <td>28</td>\n",
       "      <td>18</td>\n",
       "    </tr>\n",
       "  </tbody>\n",
       "</table>\n",
       "</div>"
      ],
      "text/plain": [
       "              Train  Test\n",
       "Thompson      11621  5775\n",
       "Janssen        1846   870\n",
       "Weatherhead    1377   663\n",
       "Beus           1087   517\n",
       "Peskov          729   355\n",
       "Williams        567   324\n",
       "Richenderfer    371   174\n",
       "Mortimore       130    67\n",
       "Kossolapov       70    31\n",
       "Inasaka          28    18"
      ]
     },
     "execution_count": 132,
     "metadata": {},
     "output_type": "execute_result"
    }
   ],
   "source": [
    "df_show = pd.DataFrame([X_train[\"author\"].value_counts(), X_test[\"author\"].value_counts()]).T\n",
    "df_show.columns = [\"Train\", \"Test\"]\n",
    "df_show"
   ]
  },
  {
   "cell_type": "code",
   "execution_count": 133,
   "id": "a33b226f-c414-48ee-b965-e03897f10916",
   "metadata": {},
   "outputs": [
    {
     "data": {
      "text/html": [
       "<div>\n",
       "<style scoped>\n",
       "    .dataframe tbody tr th:only-of-type {\n",
       "        vertical-align: middle;\n",
       "    }\n",
       "\n",
       "    .dataframe tbody tr th {\n",
       "        vertical-align: top;\n",
       "    }\n",
       "\n",
       "    .dataframe thead th {\n",
       "        text-align: right;\n",
       "    }\n",
       "</style>\n",
       "<table border=\"1\" class=\"dataframe\">\n",
       "  <thead>\n",
       "    <tr style=\"text-align: right;\">\n",
       "      <th></th>\n",
       "      <th>Train</th>\n",
       "      <th>Test</th>\n",
       "    </tr>\n",
       "  </thead>\n",
       "  <tbody>\n",
       "    <tr>\n",
       "      <th>tube</th>\n",
       "      <td>14121</td>\n",
       "      <td>7024</td>\n",
       "    </tr>\n",
       "    <tr>\n",
       "      <th>annulus</th>\n",
       "      <td>2971</td>\n",
       "      <td>1410</td>\n",
       "    </tr>\n",
       "    <tr>\n",
       "      <th>plate</th>\n",
       "      <td>424</td>\n",
       "      <td>194</td>\n",
       "    </tr>\n",
       "  </tbody>\n",
       "</table>\n",
       "</div>"
      ],
      "text/plain": [
       "         Train  Test\n",
       "tube     14121  7024\n",
       "annulus   2971  1410\n",
       "plate      424   194"
      ]
     },
     "execution_count": 133,
     "metadata": {},
     "output_type": "execute_result"
    }
   ],
   "source": [
    "df_show = pd.DataFrame([X_train[\"geometry\"].value_counts(), X_test[\"geometry\"].value_counts()]).T\n",
    "df_show.columns = [\"Train\", \"Test\"]\n",
    "df_show"
   ]
  },
  {
   "cell_type": "markdown",
   "id": "f7a4d068-9082-41c4-9f28-4bab0e1c528b",
   "metadata": {},
   "source": [
    "Every author and geometry that appears in the test values also appears in the training values, and in similar proportions"
   ]
  },
  {
   "cell_type": "code",
   "execution_count": 134,
   "id": "2249eb7f-efab-47a6-a00c-968c3d40cadd",
   "metadata": {},
   "outputs": [
    {
     "data": {
      "image/png": "[encoded data removed]",
      "text/plain": [
       "<Figure size 640x480 with 1 Axes>"
      ]
     },
     "metadata": {},
     "output_type": "display_data"
    }
   ],
   "source": [
    "sns.boxplot(x=X_train[\"author\"], y=y_train)\n",
    "plt.xticks(rotation=30, horizontalalignment=\"right\");"
   ]
  },
  {
   "cell_type": "code",
   "execution_count": 135,
   "id": "e3c86c49",
   "metadata": {},
   "outputs": [
    {
     "data": {
      "text/html": [
       "<div>\n",
       "<style scoped>\n",
       "    .dataframe tbody tr th:only-of-type {\n",
       "        vertical-align: middle;\n",
       "    }\n",
       "\n",
       "    .dataframe tbody tr th {\n",
       "        vertical-align: top;\n",
       "    }\n",
       "\n",
       "    .dataframe thead th {\n",
       "        text-align: right;\n",
       "    }\n",
       "</style>\n",
       "<table border=\"1\" class=\"dataframe\">\n",
       "  <thead>\n",
       "    <tr style=\"text-align: right;\">\n",
       "      <th></th>\n",
       "      <th>Thompson</th>\n",
       "      <th>Beus</th>\n",
       "      <th>Peskov</th>\n",
       "      <th>Janssen</th>\n",
       "      <th>Weatherhead</th>\n",
       "      <th>Inasaka</th>\n",
       "      <th>Mortimore</th>\n",
       "      <th>Williams</th>\n",
       "      <th>Richenderfer</th>\n",
       "      <th>Kossolapov</th>\n",
       "    </tr>\n",
       "  </thead>\n",
       "  <tbody>\n",
       "    <tr>\n",
       "      <th>Thompson</th>\n",
       "      <td>1.000000e+00</td>\n",
       "      <td>8.949711e-125</td>\n",
       "      <td>9.314892e-11</td>\n",
       "      <td>7.152431e-191</td>\n",
       "      <td>8.976527e-01</td>\n",
       "      <td>1.446470e-08</td>\n",
       "      <td>1.587336e-10</td>\n",
       "      <td>2.209369e-139</td>\n",
       "      <td>1.891208e-15</td>\n",
       "      <td>2.835583e-10</td>\n",
       "    </tr>\n",
       "    <tr>\n",
       "      <th>Beus</th>\n",
       "      <td>8.949711e-125</td>\n",
       "      <td>1.000000e+00</td>\n",
       "      <td>3.414373e-103</td>\n",
       "      <td>6.626472e-04</td>\n",
       "      <td>1.167261e-69</td>\n",
       "      <td>3.044529e-16</td>\n",
       "      <td>1.308071e-01</td>\n",
       "      <td>1.212507e-05</td>\n",
       "      <td>2.362221e-133</td>\n",
       "      <td>1.133258e-34</td>\n",
       "    </tr>\n",
       "    <tr>\n",
       "      <th>Peskov</th>\n",
       "      <td>9.314892e-11</td>\n",
       "      <td>3.414373e-103</td>\n",
       "      <td>1.000000e+00</td>\n",
       "      <td>7.451508e-101</td>\n",
       "      <td>1.740544e-06</td>\n",
       "      <td>7.845439e-06</td>\n",
       "      <td>8.084805e-16</td>\n",
       "      <td>3.841412e-128</td>\n",
       "      <td>4.668231e-01</td>\n",
       "      <td>2.592335e-03</td>\n",
       "    </tr>\n",
       "    <tr>\n",
       "      <th>Janssen</th>\n",
       "      <td>7.152431e-191</td>\n",
       "      <td>6.626472e-04</td>\n",
       "      <td>7.451508e-101</td>\n",
       "      <td>1.000000e+00</td>\n",
       "      <td>2.642000e-66</td>\n",
       "      <td>7.002591e-15</td>\n",
       "      <td>7.368130e-01</td>\n",
       "      <td>5.044322e-17</td>\n",
       "      <td>2.308869e-141</td>\n",
       "      <td>4.145999e-30</td>\n",
       "    </tr>\n",
       "    <tr>\n",
       "      <th>Weatherhead</th>\n",
       "      <td>8.976527e-01</td>\n",
       "      <td>1.167261e-69</td>\n",
       "      <td>1.740544e-06</td>\n",
       "      <td>2.642000e-66</td>\n",
       "      <td>1.000000e+00</td>\n",
       "      <td>1.193956e-08</td>\n",
       "      <td>5.010518e-10</td>\n",
       "      <td>9.924373e-96</td>\n",
       "      <td>8.834356e-07</td>\n",
       "      <td>3.137612e-09</td>\n",
       "    </tr>\n",
       "    <tr>\n",
       "      <th>Inasaka</th>\n",
       "      <td>1.446470e-08</td>\n",
       "      <td>3.044529e-16</td>\n",
       "      <td>7.845439e-06</td>\n",
       "      <td>7.002591e-15</td>\n",
       "      <td>1.193956e-08</td>\n",
       "      <td>1.000000e+00</td>\n",
       "      <td>5.136253e-17</td>\n",
       "      <td>1.375311e-17</td>\n",
       "      <td>3.039333e-06</td>\n",
       "      <td>5.493467e-03</td>\n",
       "    </tr>\n",
       "    <tr>\n",
       "      <th>Mortimore</th>\n",
       "      <td>1.587336e-10</td>\n",
       "      <td>1.308071e-01</td>\n",
       "      <td>8.084805e-16</td>\n",
       "      <td>7.368130e-01</td>\n",
       "      <td>5.010518e-10</td>\n",
       "      <td>5.136253e-17</td>\n",
       "      <td>1.000000e+00</td>\n",
       "      <td>1.054542e-03</td>\n",
       "      <td>1.811494e-15</td>\n",
       "      <td>5.562950e-19</td>\n",
       "    </tr>\n",
       "    <tr>\n",
       "      <th>Williams</th>\n",
       "      <td>2.209369e-139</td>\n",
       "      <td>1.212507e-05</td>\n",
       "      <td>3.841412e-128</td>\n",
       "      <td>5.044322e-17</td>\n",
       "      <td>9.924373e-96</td>\n",
       "      <td>1.375311e-17</td>\n",
       "      <td>1.054542e-03</td>\n",
       "      <td>1.000000e+00</td>\n",
       "      <td>1.429819e-153</td>\n",
       "      <td>1.832441e-39</td>\n",
       "    </tr>\n",
       "    <tr>\n",
       "      <th>Richenderfer</th>\n",
       "      <td>1.891208e-15</td>\n",
       "      <td>2.362221e-133</td>\n",
       "      <td>4.668231e-01</td>\n",
       "      <td>2.308869e-141</td>\n",
       "      <td>8.834356e-07</td>\n",
       "      <td>3.039333e-06</td>\n",
       "      <td>1.811494e-15</td>\n",
       "      <td>1.429819e-153</td>\n",
       "      <td>1.000000e+00</td>\n",
       "      <td>2.914272e-04</td>\n",
       "    </tr>\n",
       "    <tr>\n",
       "      <th>Kossolapov</th>\n",
       "      <td>2.835583e-10</td>\n",
       "      <td>1.133258e-34</td>\n",
       "      <td>2.592335e-03</td>\n",
       "      <td>4.145999e-30</td>\n",
       "      <td>3.137612e-09</td>\n",
       "      <td>5.493467e-03</td>\n",
       "      <td>5.562950e-19</td>\n",
       "      <td>1.832441e-39</td>\n",
       "      <td>2.914272e-04</td>\n",
       "      <td>1.000000e+00</td>\n",
       "    </tr>\n",
       "  </tbody>\n",
       "</table>\n",
       "</div>"
      ],
      "text/plain": [
       "                   Thompson           Beus         Peskov        Janssen  \\\n",
       "Thompson       1.000000e+00  8.949711e-125   9.314892e-11  7.152431e-191   \n",
       "Beus          8.949711e-125   1.000000e+00  3.414373e-103   6.626472e-04   \n",
       "Peskov         9.314892e-11  3.414373e-103   1.000000e+00  7.451508e-101   \n",
       "Janssen       7.152431e-191   6.626472e-04  7.451508e-101   1.000000e+00   \n",
       "Weatherhead    8.976527e-01   1.167261e-69   1.740544e-06   2.642000e-66   \n",
       "Inasaka        1.446470e-08   3.044529e-16   7.845439e-06   7.002591e-15   \n",
       "Mortimore      1.587336e-10   1.308071e-01   8.084805e-16   7.368130e-01   \n",
       "Williams      2.209369e-139   1.212507e-05  3.841412e-128   5.044322e-17   \n",
       "Richenderfer   1.891208e-15  2.362221e-133   4.668231e-01  2.308869e-141   \n",
       "Kossolapov     2.835583e-10   1.133258e-34   2.592335e-03   4.145999e-30   \n",
       "\n",
       "               Weatherhead       Inasaka     Mortimore       Williams  \\\n",
       "Thompson      8.976527e-01  1.446470e-08  1.587336e-10  2.209369e-139   \n",
       "Beus          1.167261e-69  3.044529e-16  1.308071e-01   1.212507e-05   \n",
       "Peskov        1.740544e-06  7.845439e-06  8.084805e-16  3.841412e-128   \n",
       "Janssen       2.642000e-66  7.002591e-15  7.368130e-01   5.044322e-17   \n",
       "Weatherhead   1.000000e+00  1.193956e-08  5.010518e-10   9.924373e-96   \n",
       "Inasaka       1.193956e-08  1.000000e+00  5.136253e-17   1.375311e-17   \n",
       "Mortimore     5.010518e-10  5.136253e-17  1.000000e+00   1.054542e-03   \n",
       "Williams      9.924373e-96  1.375311e-17  1.054542e-03   1.000000e+00   \n",
       "Richenderfer  8.834356e-07  3.039333e-06  1.811494e-15  1.429819e-153   \n",
       "Kossolapov    3.137612e-09  5.493467e-03  5.562950e-19   1.832441e-39   \n",
       "\n",
       "               Richenderfer    Kossolapov  \n",
       "Thompson       1.891208e-15  2.835583e-10  \n",
       "Beus          2.362221e-133  1.133258e-34  \n",
       "Peskov         4.668231e-01  2.592335e-03  \n",
       "Janssen       2.308869e-141  4.145999e-30  \n",
       "Weatherhead    8.834356e-07  3.137612e-09  \n",
       "Inasaka        3.039333e-06  5.493467e-03  \n",
       "Mortimore      1.811494e-15  5.562950e-19  \n",
       "Williams      1.429819e-153  1.832441e-39  \n",
       "Richenderfer   1.000000e+00  2.914272e-04  \n",
       "Kossolapov     2.914272e-04  1.000000e+00  "
      ]
     },
     "execution_count": 135,
     "metadata": {},
     "output_type": "execute_result"
    }
   ],
   "source": [
    "authors_list = list(X_train[\"author\"].dropna().unique())\n",
    "\n",
    "df_show = pd.DataFrame()\n",
    "for author1 in authors_list:\n",
    "    for author2 in authors_list:\n",
    "        aux1 = y_train[X_train[\"author\"] == author1]\n",
    "        aux2 = y_train[X_train[\"author\"] == author2]\n",
    "        stat, pvalue = ttest_ind(aux1, aux2, equal_var=False)\n",
    "        df_show.loc[author1, author2] = pvalue\n",
    "\n",
    "df_show"
   ]
  },
  {
   "cell_type": "markdown",
   "id": "d0d0c39f-a8b0-4468-8a73-7fd69b7114f1",
   "metadata": {},
   "source": [
    "P-values for almost all pairings seem very low, indicating they are distinct values. That suggests the author field might be a good feature for imputting the target value."
   ]
  },
  {
   "cell_type": "markdown",
   "id": "7daabe34-f7e5-400a-8ade-f38e9902c9ed",
   "metadata": {
    "tags": []
   },
   "source": [
    "``` python\n",
    "# The image has been pre-rendered to save time\n",
    "aux = pd.concat([X_train, y_train], axis=1)  \n",
    "sns.pairplot(aux, hue=\"author\")`\n",
    "```"
   ]
  },
  {
   "cell_type": "markdown",
   "id": "8fb55969-3a43-4c91-9779-8ba14fffcce1",
   "metadata": {},
   "source": [
    "![](pairplot.png)"
   ]
  },
  {
   "cell_type": "markdown",
   "id": "dbf63221-7eea-4d98-9880-75f1bbabe1bc",
   "metadata": {},
   "source": [
    "The features \"D_e\" and \"D_h\" seem to be quite closely correlated, so we'll take a closer look."
   ]
  },
  {
   "cell_type": "code",
   "execution_count": 136,
   "id": "4ba655f2-4348-452a-a28f-41b31326620c",
   "metadata": {},
   "outputs": [
    {
     "data": {
      "text/plain": [
       "<Axes: xlabel='D_e', ylabel='D_h'>"
      ]
     },
     "execution_count": 136,
     "metadata": {},
     "output_type": "execute_result"
    },
    {
     "data": {
      "image/png": "[encoded data removed]",
      "text/plain": [
       "<Figure size 640x480 with 1 Axes>"
      ]
     },
     "metadata": {},
     "output_type": "display_data"
    }
   ],
   "source": [
    "sns.scatterplot(data=X_train, x=\"D_e\", y=\"D_h\", hue=\"geometry\")"
   ]
  },
  {
   "cell_type": "code",
   "execution_count": 137,
   "id": "34bbf14f-ee08-4a6f-bd71-de3d1f6855dc",
   "metadata": {},
   "outputs": [
    {
     "data": {
      "text/plain": [
       "<seaborn.axisgrid.FacetGrid at 0x7ff5c196c7f0>"
      ]
     },
     "execution_count": 137,
     "metadata": {},
     "output_type": "execute_result"
    },
    {
     "data": {
      "image/png": "[encoded data removed]",
      "text/plain": [
       "<Figure size 1357.62x400 with 3 Axes>"
      ]
     },
     "metadata": {},
     "output_type": "display_data"
    }
   ],
   "source": [
    "g = sns.FacetGrid(X_train, col=\"geometry\", hue=\"author\", height=4)\n",
    "g.map_dataframe(sns.scatterplot, x=\"D_e\", y=\"D_h\")\n",
    "g.add_legend()"
   ]
  },
  {
   "cell_type": "code",
   "execution_count": 138,
   "id": "757b6c61-ab72-4bae-9937-279fd10b5201",
   "metadata": {},
   "outputs": [
    {
     "data": {
      "text/plain": [
       "author       3403\n",
       "geometry     3713\n",
       "pressure     2986\n",
       "mass_flux    3227\n",
       "D_e          3641\n",
       "D_h          3127\n",
       "length       3157\n",
       "chf_exp         0\n",
       "dtype: int64"
      ]
     },
     "execution_count": 138,
     "metadata": {},
     "output_type": "execute_result"
    }
   ],
   "source": [
    "X_train.isna().sum()"
   ]
  },
  {
   "cell_type": "markdown",
   "id": "332469fd-f257-4402-82df-795a0b4ee649",
   "metadata": {},
   "source": [
    "Since there are more values missing in D_e than D_h, we'll use the latter. When the geometry is \"tube\", we'll assume D_e = D_h. For the \"annulus\", we'll use a linear regression. For \"plate\", we'll use the median, to ignore the outliers."
   ]
  },
  {
   "cell_type": "markdown",
   "id": "f174aa8c-03f3-40e4-a382-4e90205b1ccf",
   "metadata": {},
   "source": [
    "## Pipeline and Model Construction"
   ]
  },
  {
   "cell_type": "code",
   "execution_count": 139,
   "id": "9376b3de-9beb-4a1b-8c7e-dd5b4cde35dd",
   "metadata": {},
   "outputs": [],
   "source": [
    "numerical_columns = [\"pressure\", \"mass_flux\", \"D_e\", \"D_h\", \"length\", \"chf_exp\"]\n",
    "categorical_columns = [\"author\", \"geometry\"]"
   ]
  },
  {
   "cell_type": "code",
   "execution_count": 140,
   "id": "c43922de-80b3-4cce-ba83-1fe234d119c9",
   "metadata": {},
   "outputs": [],
   "source": [
    "class Preprocessor:\n",
    "    def __init__(self):\n",
    "        self.cat_imputer = SimpleImputer(strategy=\"most_frequent\")\n",
    "        self.num_imputer = SimpleImputer(strategy=\"median\")\n",
    "        \n",
    "    def fit(self, X_, y=None):\n",
    "        self.cat_imputer.fit(X_[[\"author\", \"geometry\"]])\n",
    "        self.num_imputer.fit(X_[numerical_columns])\n",
    "        return self\n",
    "        \n",
    "    def transform(self, X_, y=None):\n",
    "        X = X_.copy()\n",
    "        X[[\"author\", \"geometry\"]] = self.cat_imputer.transform(X[[\"author\", \"geometry\"]])\n",
    "        X.loc[((X[\"geometry\"] == \"tube\") & (X[\"D_h\"].isna())),\"D_h\"] = X[\"D_e\"]\n",
    "        X[numerical_columns] = self.num_imputer.transform(X[numerical_columns])\n",
    "        X = X.drop(columns=[\"D_e\"])\n",
    "        return X"
   ]
  },
  {
   "cell_type": "code",
   "execution_count": 165,
   "id": "6b09e37d-b538-4368-9eb2-641d35310905",
   "metadata": {},
   "outputs": [],
   "source": [
    "# The function was inspired by the one in https://www.kaggle.com/code/iqbalsyahakbar/ps3e15-eda-imputing-ensemble-for-beginners/\n",
    "def cross_validation_score(splits, model, model_name):\n",
    "    X = X_train.copy()\n",
    "    y = y_train.copy()\n",
    "    \n",
    "    kf = KFold(n_splits=splits)\n",
    "    \n",
    "    val_predictions = np.zeros((len(X_train)))\n",
    "    predictions = np.zeros((len(X_test)))\n",
    "    train_scores = []\n",
    "    val_scores = []\n",
    "    \n",
    "    encoder = ColumnTransformer(transformers=[\n",
    "    (\"ohe\", OneHotEncoder(handle_unknown=\"infrequent_if_exist\", min_frequency=10), categorical_columns)],\n",
    "                            remainder=\"passthrough\")\n",
    "    \n",
    "    for train_idx, val_idx in kf.split(X):\n",
    "        X_cross_train, X_val, y_cross_train, y_val = X.iloc[train_idx], X.iloc[val_idx], y.iloc[train_idx], y.iloc[val_idx]\n",
    "        \n",
    "        pipe = Pipeline(steps=[\n",
    "            (\"preprocess\", Preprocessor()),\n",
    "            (\"encode\", encoder),\n",
    "            (\"model\", model)])\n",
    "        \n",
    "        pipe.fit(X_cross_train, y_cross_train)        \n",
    "        train_preds = pipe.predict(X_cross_train)\n",
    "        \n",
    "        val_preds = pipe.predict(X_val)\n",
    "        \n",
    "        val_predictions[val_idx] += val_preds\n",
    "        predictions += pipe.predict(X_test) / splits\n",
    "        \n",
    "        train_scores.append(mean_squared_error(train_preds, y_cross_train, squared=False))\n",
    "        val_scores.append(mean_squared_error(val_preds, y_val, squared=False))\n",
    "        \n",
    "    print(f\"{model_name}| Val Score: {np.mean(val_scores):.5f} ± {np.std(val_scores):.5f} | Train Score: {np.mean(train_scores):.5f} ± {np.std(train_scores):.5f} \")\n",
    "    \n",
    "    return val_scores, val_predictions, predictions"
   ]
  },
  {
   "cell_type": "markdown",
   "id": "4c4504ec-8c66-4845-ad2d-2eb8513f3680",
   "metadata": {},
   "source": [
    "## Model Evaluation"
   ]
  },
  {
   "cell_type": "code",
   "execution_count": 170,
   "id": "9ed2d3a5-a7d3-4c18-b2be-24c2b5357515",
   "metadata": {},
   "outputs": [],
   "source": [
    "models = [\n",
    "    (\"rf\", RandomForestRegressor()),\n",
    "    (\"lgb\", LGBMRegressor()),\n",
    "    (\"xgb\", XGBRegressor())]"
   ]
  },
  {
   "cell_type": "code",
   "execution_count": 171,
   "id": "4cf78a84-fbff-456b-9102-45a04876a281",
   "metadata": {},
   "outputs": [
    {
     "name": "stdout",
     "output_type": "stream",
     "text": [
      "rf| Val Score: 0.08024 ± 0.00223 | Train Score: 0.03489 ± 0.00038 \n",
      "lgb| Val Score: 0.07406 ± 0.00251 | Train Score: 0.06889 ± 0.00048 \n",
      "xgb| Val Score: 0.07620 ± 0.00206 | Train Score: 0.05992 ± 0.00045 \n"
     ]
    }
   ],
   "source": [
    "score_list, oof_list, predict_list = pd.DataFrame(), pd.DataFrame(), pd.DataFrame()\n",
    "\n",
    "for (label, model) in models:\n",
    "    score_list[label], oof_list[label], predict_list[label] = cross_validation_score(\n",
    "        splits=5, model=model, model_name=label)"
   ]
  },
  {
   "cell_type": "code",
   "execution_count": 186,
   "id": "677e22a1-7f92-4019-8f50-19ee176711fa",
   "metadata": {},
   "outputs": [
    {
     "data": {
      "image/png": "[encoded data removed]",
      "text/plain": [
       "<Figure size 640x480 with 1 Axes>"
      ]
     },
     "metadata": {},
     "output_type": "display_data"
    }
   ],
   "source": [
    "sns.barplot(data = score_list.reindex((score_list).mean().sort_values().index, axis = 1), orient = 'h')\n",
    "plt.title('Score Comparison', weight = 'bold', size = 10);"
   ]
  },
  {
   "cell_type": "code",
   "execution_count": 191,
   "id": "d528183a-9289-453e-aa20-b7c1512d2c88",
   "metadata": {},
   "outputs": [
    {
     "data": {
      "text/html": [
       "<div>\n",
       "<style scoped>\n",
       "    .dataframe tbody tr th:only-of-type {\n",
       "        vertical-align: middle;\n",
       "    }\n",
       "\n",
       "    .dataframe tbody tr th {\n",
       "        vertical-align: top;\n",
       "    }\n",
       "\n",
       "    .dataframe thead th {\n",
       "        text-align: right;\n",
       "    }\n",
       "</style>\n",
       "<table border=\"1\" class=\"dataframe\">\n",
       "  <thead>\n",
       "    <tr style=\"text-align: right;\">\n",
       "      <th></th>\n",
       "      <th>Weight per Model</th>\n",
       "    </tr>\n",
       "  </thead>\n",
       "  <tbody>\n",
       "    <tr>\n",
       "      <th>rf</th>\n",
       "      <td>0.076823</td>\n",
       "    </tr>\n",
       "    <tr>\n",
       "      <th>lgb</th>\n",
       "      <td>0.762394</td>\n",
       "    </tr>\n",
       "    <tr>\n",
       "      <th>xgb</th>\n",
       "      <td>0.147932</td>\n",
       "    </tr>\n",
       "  </tbody>\n",
       "</table>\n",
       "</div>"
      ],
      "text/plain": [
       "     Weight per Model\n",
       "rf           0.076823\n",
       "lgb          0.762394\n",
       "xgb          0.147932"
      ]
     },
     "execution_count": 191,
     "metadata": {},
     "output_type": "execute_result"
    }
   ],
   "source": [
    "weights = Ridge(positive = False, fit_intercept = False).fit(X = oof_list, y = y_train).coef_\n",
    "\n",
    "pd.DataFrame(weights, index = oof_list.columns, columns = [\"Weight per Model\"])"
   ]
  },
  {
   "cell_type": "code",
   "execution_count": 195,
   "id": "64355a81-88f5-45b0-bf31-143a93dd7ab7",
   "metadata": {},
   "outputs": [
    {
     "name": "stdout",
     "output_type": "stream",
     "text": [
      "Voting Ensemble| Val Score: 0.07402 ± 0.00246 | Train Score: 0.06416 ± 0.00046 \n"
     ]
    }
   ],
   "source": [
    "voter = VotingRegressor(models, weights=weights)\n",
    "\n",
    "_, _, prediction = cross_validation_score(5, voter, 'Voting Ensemble')"
   ]
  },
  {
   "cell_type": "code",
   "execution_count": 196,
   "id": "c6585ede-ac52-478e-90e3-410f81f83e48",
   "metadata": {},
   "outputs": [
    {
     "data": {
      "text/plain": [
       "array([ 0.00341161, -0.09422725, -0.04975405, ...,  0.03383539,\n",
       "       -0.06343283,  0.00162328])"
      ]
     },
     "execution_count": 196,
     "metadata": {},
     "output_type": "execute_result"
    }
   ],
   "source": [
    "prediction"
   ]
  },
  {
   "cell_type": "code",
   "execution_count": 198,
   "id": "13a9c80a-ffc1-4d6c-9fe6-b42ed16c6d7a",
   "metadata": {},
   "outputs": [],
   "source": [
    "submission = pd.DataFrame(X_test.index, columns = ['id'])\n",
    "submission['x_e_out [-]'] = prediction\n",
    "submission.to_csv('submission.csv', index = False)"
   ]
  }
 ],
 "metadata": {
  "kernelspec": {
   "display_name": "Python 3 (ipykernel)",
   "language": "python",
   "name": "python3"
  },
  "language_info": {
   "codemirror_mode": {
    "name": "ipython",
    "version": 3
   },
   "file_extension": ".py",
   "mimetype": "text/x-python",
   "name": "python",
   "nbconvert_exporter": "python",
   "pygments_lexer": "ipython3",
   "version": "3.9.16"
  },
  "vscode": {
   "interpreter": {
    "hash": "37e822ef0832e027edd65ef5f54fbcdceec213a532c832b1ce69ae7fc62bb6c7"
   }
  }
 },
 "nbformat": 4,
 "nbformat_minor": 5
}
